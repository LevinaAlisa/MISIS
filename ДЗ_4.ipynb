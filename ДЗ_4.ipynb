{
  "nbformat": 4,
  "nbformat_minor": 0,
  "metadata": {
    "colab": {
      "provenance": []
    },
    "kernelspec": {
      "name": "python3",
      "display_name": "Python 3"
    },
    "language_info": {
      "name": "python"
    }
  },
  "cells": [
    {
      "cell_type": "markdown",
      "source": [
        "**Задание 1**"
      ],
      "metadata": {
        "id": "aCmWgnOxeLLL"
      }
    },
    {
      "cell_type": "code",
      "execution_count": null,
      "metadata": {
        "colab": {
          "base_uri": "https://localhost:8080/"
        },
        "id": "ixPXN1fLdpJT",
        "outputId": "5d29154d-13f3-4b86-a2a7-5b6b6cb4564c"
      },
      "outputs": [
        {
          "output_type": "execute_result",
          "data": {
            "text/plain": [
              "2.0"
            ]
          },
          "metadata": {},
          "execution_count": 5
        }
      ],
      "source": [
        "def sqrt(x, n = 2):\n",
        "  x**= 1/n\n",
        "  return(x)\n",
        "\n",
        "sqrt(16,4)"
      ]
    },
    {
      "cell_type": "markdown",
      "source": [
        "**Задание 2**"
      ],
      "metadata": {
        "id": "uH8PGXGTf8bv"
      }
    },
    {
      "cell_type": "code",
      "source": [
        "file = 'Моя диссертац.gif'\n",
        "extensions = ['png', 'jpg', 'jpeg', 'gif', 'svg']\n",
        "\n",
        "def fileex(file):\n",
        "  ex = file.split('.')\n",
        "  ex = (ex[len(ex)-1])\n",
        "  return ex\n",
        "\n",
        "fileex(file)"
      ],
      "metadata": {
        "colab": {
          "base_uri": "https://localhost:8080/",
          "height": 36
        },
        "id": "dC3RxZiRf-IL",
        "outputId": "bb599c7a-9179-4623-ab4f-79d8550153f1"
      },
      "execution_count": null,
      "outputs": [
        {
          "output_type": "execute_result",
          "data": {
            "text/plain": [
              "'gif'"
            ],
            "application/vnd.google.colaboratory.intrinsic+json": {
              "type": "string"
            }
          },
          "metadata": {},
          "execution_count": 9
        }
      ]
    },
    {
      "cell_type": "markdown",
      "source": [
        "**Задание 3**"
      ],
      "metadata": {
        "id": "riSk_r0ahsj7"
      }
    },
    {
      "cell_type": "code",
      "source": [
        "dict_a = {1:10, 2:20}\n",
        "dict_b = {3:30, 4:40}\n",
        "dict_c = {5:50, 6:60}\n",
        "\n",
        "dict = {**dict_a, **dict_b, **dict_c}\n",
        "print(dict)"
      ],
      "metadata": {
        "colab": {
          "base_uri": "https://localhost:8080/"
        },
        "id": "MpqofOZmhvk9",
        "outputId": "bc439f97-9705-4588-fab1-8b93767e5769"
      },
      "execution_count": null,
      "outputs": [
        {
          "output_type": "stream",
          "name": "stdout",
          "text": [
            "{1: 10, 2: 20, 3: 30, 4: 40, 5: 50, 6: 60}\n"
          ]
        }
      ]
    },
    {
      "cell_type": "markdown",
      "source": [
        "**Задание 4**"
      ],
      "metadata": {
        "id": "7Q81LqUPiPtx"
      }
    },
    {
      "cell_type": "code",
      "source": [
        "count = str(input())\n",
        "numb = int(count[0])\n",
        "\n",
        "def numbers1(numb,count):\n",
        "  for i in range (1,len(count)):\n",
        "    numb += int(count[i])\n",
        "  return numb\n",
        "\n",
        "numbers1(numb,count)"
      ],
      "metadata": {
        "colab": {
          "base_uri": "https://localhost:8080/"
        },
        "id": "MKYGSAp-iZY_",
        "outputId": "836a1d6c-90d8-4bda-c65b-c9e7df964bca"
      },
      "execution_count": null,
      "outputs": [
        {
          "name": "stdout",
          "output_type": "stream",
          "text": [
            "1234\n"
          ]
        },
        {
          "output_type": "execute_result",
          "data": {
            "text/plain": [
              "10"
            ]
          },
          "metadata": {},
          "execution_count": 17
        }
      ]
    },
    {
      "cell_type": "markdown",
      "source": [
        "**Задание 5**"
      ],
      "metadata": {
        "id": "irpV8eiwiUqC"
      }
    },
    {
      "cell_type": "code",
      "source": [
        "numbers=[1,4,5]\n",
        "unic0=[]\n",
        "res=\"Все числа уникальны\"\n",
        "\n",
        "def unic(numbers, unic0, res):\n",
        "  for i in range (len(numbers)):\n",
        "    if numbers[i-1] in unic0:\n",
        "      res = \"Не все числа уникальны\"\n",
        "      return res\n",
        "      break\n",
        "    else:\n",
        "      unic0.append(numbers[i-1])\n",
        "  return res\n",
        "\n",
        "unic(numbers, unic0, res)"
      ],
      "metadata": {
        "colab": {
          "base_uri": "https://localhost:8080/",
          "height": 36
        },
        "id": "UFEfuPhkiZ2n",
        "outputId": "cfd7c993-2c9e-4ff6-ae12-3a9748029482"
      },
      "execution_count": null,
      "outputs": [
        {
          "output_type": "execute_result",
          "data": {
            "text/plain": [
              "'Все числа уникальны'"
            ],
            "application/vnd.google.colaboratory.intrinsic+json": {
              "type": "string"
            }
          },
          "metadata": {},
          "execution_count": 24
        }
      ]
    },
    {
      "cell_type": "markdown",
      "source": [
        "**Задание 6**"
      ],
      "metadata": {
        "id": "EOSIBOMFiU18"
      }
    },
    {
      "cell_type": "code",
      "source": [
        "my_list = [\"я\", \"не\", \"в\", \"отпуск\" ]\n",
        "\n",
        "def print_list1(my_list):\n",
        "  for ind, val in enumerate(my_list):\n",
        "      print(ind+1, val)\n",
        "\n",
        "print_list1(my_list)"
      ],
      "metadata": {
        "colab": {
          "base_uri": "https://localhost:8080/"
        },
        "id": "Xqcl_VGnp92N",
        "outputId": "a3caebdb-2cf6-4fff-fa62-2a7d3f2212c5"
      },
      "execution_count": 46,
      "outputs": [
        {
          "output_type": "stream",
          "name": "stdout",
          "text": [
            "1 я\n",
            "2 не\n",
            "3 в\n",
            "4 отпуск\n"
          ]
        }
      ]
    },
    {
      "cell_type": "code",
      "source": [
        "my_list = {'Сок':'Пить', 'Сыр':'Есть', 'Морс':'Пить', 'Котлета':'Есть', 'Водичка':'Пить', 'Хлеб':'Есть'}\n",
        "\n",
        "def print_list2(my_list):\n",
        "  for key, val in my_list.items():\n",
        "      print(key, val)\n",
        "\n",
        "print_list2(my_list)"
      ],
      "metadata": {
        "colab": {
          "base_uri": "https://localhost:8080/"
        },
        "id": "vIUXQhDEiael",
        "outputId": "f3049c42-d0a9-43c1-858e-fde31f66f8e9"
      },
      "execution_count": 47,
      "outputs": [
        {
          "output_type": "stream",
          "name": "stdout",
          "text": [
            "Сок Пить\n",
            "Сыр Есть\n",
            "Морс Пить\n",
            "Котлета Есть\n",
            "Водичка Пить\n",
            "Хлеб Есть\n"
          ]
        }
      ]
    },
    {
      "cell_type": "code",
      "source": [
        "mydict1 = [\"я\", \"не\", \"в\", \"отпуск\"]\n",
        "mydict2 = {'Сок':'Пить', 'Сыр':'Есть', 'Морс':'Пить', 'Котлета':'Есть', 'Водичка':'Пить', 'Хлеб':'Есть'}\n",
        "\n",
        "def print_overlord(mydict):\n",
        "  if isinstance(mydict, list):\n",
        "    print_list1(mydict)\n",
        "  #elif isinstance(mydict, dict): - не работает, не понимаю, почему\n",
        "  elif type(mydict) == type({1:2}):\n",
        "    print_list2(mydict)\n",
        "  else:\n",
        "    print(mydict)\n",
        "\n",
        "print_overlord(mydict1)\n",
        "print(\"______________\")\n",
        "print_overlord(mydict2)"
      ],
      "metadata": {
        "colab": {
          "base_uri": "https://localhost:8080/"
        },
        "id": "ur7SLZmPqsbf",
        "outputId": "c65ccca0-a695-4287-d008-6f70de292a52"
      },
      "execution_count": 60,
      "outputs": [
        {
          "output_type": "stream",
          "name": "stdout",
          "text": [
            "1 я\n",
            "2 не\n",
            "3 в\n",
            "4 отпуск\n",
            "______________\n",
            "Сок Пить\n",
            "Сыр Есть\n",
            "Морс Пить\n",
            "Котлета Есть\n",
            "Водичка Пить\n",
            "Хлеб Есть\n"
          ]
        }
      ]
    }
  ]
}