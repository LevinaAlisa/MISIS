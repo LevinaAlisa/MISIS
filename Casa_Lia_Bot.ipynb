{
  "nbformat": 4,
  "nbformat_minor": 0,
  "metadata": {
    "colab": {
      "provenance": []
    },
    "kernelspec": {
      "name": "python3",
      "display_name": "Python 3"
    },
    "language_info": {
      "name": "python"
    }
  },
  "cells": [
    {
      "cell_type": "code",
      "source": [
        "pip install pyTelegramBotAPI"
      ],
      "metadata": {
        "id": "hu8Wl5sWYL6N"
      },
      "execution_count": null,
      "outputs": []
    },
    {
      "cell_type": "code",
      "execution_count": 29,
      "metadata": {
        "id": "64pyg7dLTo6r"
      },
      "outputs": [],
      "source": [
        "import telebot\n",
        "\n",
        "bot = telebot.TeleBot('Мой токен тут был, но его тут уже нет.')\n",
        "\n",
        "markup = telebot.types.ReplyKeyboardMarkup(resize_keyboard=True)\n",
        "markup.row('Цены', 'Адрес')\n",
        "markup.row('Скидки', 'Больше информации')\n",
        "markup.row('Заказ')\n",
        "\n",
        "@bot.message_handler(commands=['start'])\n",
        "def start_message(message):\n",
        "    bot.send_message(message.chat.id, \"Привет! Выбери интересующий пункт из меню:\", reply_markup=markup)\n",
        "\n",
        "@bot.message_handler(func=lambda message: message.text == 'Цены')\n",
        "def prices_message(message):\n",
        "    bot.send_message(message.chat.id, \"Упаковка 1000гр - 1000р.\\nУпаковка 500гр - 675р.\\nУпаковка 250гр - 425р.\")\n",
        "\n",
        "@bot.message_handler(func=lambda message: message.text == 'Адрес')\n",
        "def address_message(message):\n",
        "    bot.send_message(message.chat.id, \"Москва, Саратовская улица, 22\")\n",
        "\n",
        "@bot.message_handler(func=lambda message: message.text == 'Скидки')\n",
        "def discounts_message(message):\n",
        "    bot.send_message(message.chat.id, \"До 21 декабря 2023 года действует скидка 10% на весь ассортимент\")\n",
        "\n",
        "@bot.message_handler(func=lambda message: message.text == 'Больше информации')\n",
        "def more_info_message(message):\n",
        "    bot.send_message(message.chat.id, \"100% арабика класса премиум\\nСвежая обжарка\\nСтрана - Бразилия\\nЛюбовь с первого аромата!\")\n",
        "\n",
        "@bot.message_handler(func=lambda message: message.text == 'Заказ')\n",
        "def order_message(message):\n",
        "    bot.send_message(message.chat.id, \"Как сделать заказ? @tagievavika\\nНапишите в личные сообщения:\\n\"\n",
        "                                      \"1. Ваше имя\\n2. Адрес для доставки\\n3. Номер телефона для связи\\n\"\n",
        "                                      \"4. Кол-во упаковок\\nОплата при получении наличными или переводом.\\n\"\n",
        "                                      \"Доставка бесплатная до подъезда.\")\n",
        "\n",
        "bot.polling(none_stop=True)"
      ]
    }
  ]
}