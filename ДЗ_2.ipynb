{
  "nbformat": 4,
  "nbformat_minor": 0,
  "metadata": {
    "colab": {
      "provenance": []
    },
    "kernelspec": {
      "name": "python3",
      "display_name": "Python 3"
    },
    "language_info": {
      "name": "python"
    }
  },
  "cells": [
    {
      "cell_type": "markdown",
      "source": [
        "**Задание 1**"
      ],
      "metadata": {
        "id": "z1EyCFRwaqPg"
      }
    },
    {
      "cell_type": "code",
      "execution_count": 12,
      "metadata": {
        "id": "dpYoxCJFU6fX"
      },
      "outputs": [],
      "source": [
        "seconds = 10000"
      ]
    },
    {
      "cell_type": "code",
      "source": [
        "min = seconds // 60\n",
        "hours = min // 60\n",
        "days = hours // 24\n",
        "hours -= days * 24\n",
        "min -= hours * 60 + days * 1440\n",
        "seconds -= min * 60 + hours * 3600 + days * 86400\n",
        "print (days,hours,min,seconds,sep=':')"
      ],
      "metadata": {
        "colab": {
          "base_uri": "https://localhost:8080/"
        },
        "id": "SvlYR5ZBXMf1",
        "outputId": "287ff1f4-b740-48df-b07c-8e5b9de379e0"
      },
      "execution_count": 14,
      "outputs": [
        {
          "output_type": "stream",
          "name": "stdout",
          "text": [
            "0:1:58:40\n"
          ]
        }
      ]
    },
    {
      "cell_type": "markdown",
      "source": [
        "**Задание 2**"
      ],
      "metadata": {
        "id": "UKpkZkfQaxSY"
      }
    },
    {
      "cell_type": "code",
      "source": [
        "print('Введите X')\n",
        "X = int(input())\n",
        "print('Введите Y')\n",
        "Y = int(input())\n",
        "print('Введите желаемую операцию: + - * /')\n",
        "operation = input()\n",
        "\n",
        "if operation == '+':\n",
        "  X += Y\n",
        "elif operation == '-':\n",
        "  X -= Y\n",
        "elif operation == '*':\n",
        "  X *= Y\n",
        "elif operation == '/':\n",
        "  X /= Y\n",
        "\n",
        "print('Результат:', X)"
      ],
      "metadata": {
        "colab": {
          "base_uri": "https://localhost:8080/"
        },
        "id": "0QweGb4Xaw8p",
        "outputId": "6ebcbf01-0dd8-4de9-df21-8ac23e6b4932"
      },
      "execution_count": 21,
      "outputs": [
        {
          "output_type": "stream",
          "name": "stdout",
          "text": [
            "Введите X\n",
            "3\n",
            "Введите Y\n",
            "4\n",
            "Введите желаемую операцию: + - * /\n",
            "/\n",
            "Результат: 0.75\n"
          ]
        }
      ]
    },
    {
      "cell_type": "markdown",
      "source": [
        "**Задание 3**"
      ],
      "metadata": {
        "id": "_1NORo8hcPjc"
      }
    },
    {
      "cell_type": "code",
      "source": [
        "First = str(input())\n",
        "Second = str(input())\n",
        "print(First + '$' + Second)\n",
        "print(First, Second, sep='$')"
      ],
      "metadata": {
        "colab": {
          "base_uri": "https://localhost:8080/"
        },
        "id": "2BgZ5HKLcS2g",
        "outputId": "c8056a90-9682-46df-8506-0f343b729fef"
      },
      "execution_count": 22,
      "outputs": [
        {
          "output_type": "stream",
          "name": "stdout",
          "text": [
            "Hello\n",
            "World!\n",
            "Hello$World!\n",
            "Hello$World!\n"
          ]
        }
      ]
    },
    {
      "cell_type": "markdown",
      "source": [
        "**Задание 4**"
      ],
      "metadata": {
        "id": "tA-hHh8vdC10"
      }
    },
    {
      "cell_type": "code",
      "source": [
        "print('Как зовут именинника?')\n",
        "name = str(input())\n",
        "print('Сколько ему/ей исполняется лет?')\n",
        "years = int(input())\n",
        "\n",
        "for i in range (years):\n",
        "  print('С днём рождения, ' + name + '!')"
      ],
      "metadata": {
        "colab": {
          "base_uri": "https://localhost:8080/"
        },
        "id": "ckfaZeumdE5_",
        "outputId": "fffa0594-aa72-455f-eb3d-1c8b5e0d72a6"
      },
      "execution_count": 24,
      "outputs": [
        {
          "output_type": "stream",
          "name": "stdout",
          "text": [
            "Как зовут именинника?\n",
            "Вика\n",
            "Сколько ему/ей исполняется лет?\n",
            "16\n",
            "С днём рождения, Вика!\n",
            "С днём рождения, Вика!\n",
            "С днём рождения, Вика!\n",
            "С днём рождения, Вика!\n",
            "С днём рождения, Вика!\n",
            "С днём рождения, Вика!\n",
            "С днём рождения, Вика!\n",
            "С днём рождения, Вика!\n",
            "С днём рождения, Вика!\n",
            "С днём рождения, Вика!\n",
            "С днём рождения, Вика!\n",
            "С днём рождения, Вика!\n",
            "С днём рождения, Вика!\n",
            "С днём рождения, Вика!\n",
            "С днём рождения, Вика!\n",
            "С днём рождения, Вика!\n"
          ]
        }
      ]
    }
  ]
}