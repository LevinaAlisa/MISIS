{
  "nbformat": 4,
  "nbformat_minor": 0,
  "metadata": {
    "colab": {
      "provenance": []
    },
    "kernelspec": {
      "name": "python3",
      "display_name": "Python 3"
    },
    "language_info": {
      "name": "python"
    }
  },
  "cells": [
    {
      "cell_type": "markdown",
      "source": [
        "**Задание 1**"
      ],
      "metadata": {
        "id": "Il2PMOfhMEmv"
      }
    },
    {
      "cell_type": "code",
      "execution_count": 3,
      "metadata": {
        "id": "ogxWBQcKJhjj",
        "colab": {
          "base_uri": "https://localhost:8080/"
        },
        "outputId": "2f3a3904-0dd2-4844-937d-09f8419c938b"
      },
      "outputs": [
        {
          "output_type": "stream",
          "name": "stdout",
          "text": [
            "Студент 1: Виктория, Возраст: 20, Группа: 11Б\n",
            "Студент 2: Валентин, Возраст: 20, Группа: 12А\n"
          ]
        }
      ],
      "source": [
        "class Student:\n",
        "    def __init__(self, name=\"Иван\", age=18, group_number=\"10A\"):\n",
        "        self.name = name\n",
        "        self.age = age\n",
        "        self.group_number = group_number\n",
        "\n",
        "    def get_name(self):\n",
        "        return self.name\n",
        "\n",
        "    def get_age(self):\n",
        "        return self.age\n",
        "\n",
        "    def get_group_number(self):\n",
        "        return self.group_number\n",
        "\n",
        "    def set_name_age(self, name, age):\n",
        "        self.name = name\n",
        "        self.age = age\n",
        "\n",
        "    def set_group_number(self, group_number):\n",
        "        self.group_number = group_number\n",
        "\n",
        "student1 = Student(\"Виктория\", 20, \"11Б\")\n",
        "student2 = Student(\"Борис\", 19, \"11В\")\n",
        "student3 = Student(\"Екатерина\", 21, \"12А\")\n",
        "student4 = Student(\"Евгений\", 22, \"12Б\")\n",
        "student5 = Student(\"Даниил\", 18, \"12В\")\n",
        "\n",
        "print(f\"Студент 1: {student1.get_name()}, Возраст: {student1.get_age()}, Группа: {student1.get_group_number()}\")\n",
        "\n",
        "student2.set_name_age(\"Валентин\", 20)\n",
        "student2.set_group_number(\"12А\")\n",
        "\n",
        "print(f\"Студент 2: {student2.get_name()}, Возраст: {student2.get_age()}, Группа: {student2.get_group_number()}\")\n"
      ]
    },
    {
      "cell_type": "markdown",
      "source": [
        "**Задание 2**"
      ],
      "metadata": {
        "id": "VyQ0TMpeMGWs"
      }
    },
    {
      "cell_type": "code",
      "source": [
        "class Car:\n",
        "    def __init__(self, color=\"черный\", type=\"седан\", year=2022):\n",
        "        self.color = color\n",
        "        self.type = type\n",
        "        self.year = year\n",
        "        self.engine_status = False\n",
        "\n",
        "    def start_car(self):\n",
        "        if not self.engine_status:\n",
        "            print(\"Автомобиль заведен\")\n",
        "            self.engine_status = True\n",
        "        else:\n",
        "            print(\"Автомобиль уже заведен\")\n",
        "\n",
        "    def stop_car(self):\n",
        "        if self.engine_status:\n",
        "            print(\"Автомобиль заглушен\")\n",
        "            self.engine_status = False\n",
        "        else:\n",
        "            print(\"Автомобиль уже заглушен\")\n",
        "\n",
        "    def set_year(self, year):\n",
        "        self.year = year\n",
        "        print(f\"Год выпуска автомобиля установлен: {self.year}\")\n",
        "\n",
        "    def set_type(self, car_type):\n",
        "        self.type = car_type\n",
        "        print(f\"Тип автомобиля установлен: {self.type}\")\n",
        "\n",
        "    def set_color(self, color):\n",
        "        self.color = color\n",
        "        print(f\"Цвет автомобиля установлен: {self.color}\")\n",
        "\n",
        "car1 = Car()\n",
        "\n",
        "car1.start_car()\n",
        "car1.set_year(2020)\n",
        "car1.set_type(\"хэтчбек\")\n",
        "car1.set_color(\"синий\")\n",
        "car1.stop_car()"
      ],
      "metadata": {
        "colab": {
          "base_uri": "https://localhost:8080/"
        },
        "id": "ewWXE7BvLU-Z",
        "outputId": "4902ae7c-a33f-4312-becd-403e86e321c0"
      },
      "execution_count": 4,
      "outputs": [
        {
          "output_type": "stream",
          "name": "stdout",
          "text": [
            "Автомобиль заведен\n",
            "Год выпуска автомобиля установлен: 2020\n",
            "Тип автомобиля установлен: хэтчбек\n",
            "Цвет автомобиля установлен: синий\n",
            "Автомобиль заглушен\n"
          ]
        }
      ]
    }
  ]
}