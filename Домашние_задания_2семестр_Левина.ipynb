{
  "nbformat": 4,
  "nbformat_minor": 0,
  "metadata": {
    "colab": {
      "provenance": []
    },
    "kernelspec": {
      "name": "python3",
      "display_name": "Python 3"
    },
    "language_info": {
      "name": "python"
    }
  },
  "cells": [
    {
      "cell_type": "markdown",
      "source": [
        "**ДЗ-1**\n",
        "\n",
        "---\n",
        "\n"
      ],
      "metadata": {
        "id": "y3Cln8x_XYE2"
      }
    },
    {
      "cell_type": "markdown",
      "source": [
        "Задание 1"
      ],
      "metadata": {
        "id": "gBSWwMGEX3fc"
      }
    },
    {
      "cell_type": "code",
      "source": [
        "class ListNode:\n",
        "    def __init__(self, data, next_node=None):\n",
        "        self.data = data\n",
        "        self.next_node = next_node\n",
        "\n",
        "    def __str__(self):\n",
        "        return f\"ListNode({self.data})\"\n",
        "\n",
        "class SinglyLinkedList:\n",
        "    def __init__(self):\n",
        "        self.head_node = None\n",
        "        self.size = 0\n",
        "\n",
        "    def __str__(self):\n",
        "        nodes = []\n",
        "        current_node = self.head_node\n",
        "        while current_node:\n",
        "            nodes.append(str(current_node))\n",
        "            current_node = current_node.next_node\n",
        "        return \"\\n\".join(nodes)\n",
        "\n",
        "    def insert(self, data):\n",
        "        new_node = ListNode(data)\n",
        "        if not self.head_node:\n",
        "            self.head_node = new_node\n",
        "        else:\n",
        "            current_node = self.head_node\n",
        "            while current_node.next_node:\n",
        "                current_node = current_node.next_node\n",
        "            current_node.next_node = new_node\n",
        "        self.size += 1\n",
        "\n",
        "    def reverse_list(self):\n",
        "        previous_node = None\n",
        "        current_node = self.head_node\n",
        "        while current_node:\n",
        "            next_node = current_node.next_node\n",
        "            current_node.next_node = previous_node\n",
        "            previous_node = current_node\n",
        "            current_node = next_node\n",
        "        self.head_node = previous_node\n",
        "\n",
        "    def sort_list(self):\n",
        "        if not self.head_node:\n",
        "            return\n",
        "        current_i = self.head_node\n",
        "        while current_i:\n",
        "            current_j = current_i.next_node\n",
        "            while current_j:\n",
        "                if current_j.data < current_i.data:\n",
        "                    current_j.data, current_i.data = current_i.data, current_j.data\n",
        "                current_j = current_j.next_node\n",
        "            current_i = current_i.next_node\n",
        "\n",
        "linked_list = SinglyLinkedList()\n",
        "linked_list.insert(1)\n",
        "linked_list.insert(2)\n",
        "linked_list.insert(3)\n",
        "linked_list.insert(4)\n",
        "\n",
        "print(linked_list)\n",
        "linked_list.reverse_list()\n",
        "print(linked_list)\n"
      ],
      "metadata": {
        "colab": {
          "base_uri": "https://localhost:8080/"
        },
        "id": "9Poi-QSmcu6U",
        "outputId": "b30ad308-7fc0-4227-e894-4e6a37138129"
      },
      "execution_count": null,
      "outputs": [
        {
          "output_type": "stream",
          "name": "stdout",
          "text": [
            "ListNode(1)\n",
            "ListNode(2)\n",
            "ListNode(3)\n",
            "ListNode(4)\n",
            "ListNode(4)\n",
            "ListNode(3)\n",
            "ListNode(2)\n",
            "ListNode(1)\n"
          ]
        }
      ]
    },
    {
      "cell_type": "markdown",
      "source": [
        "Задание 2"
      ],
      "metadata": {
        "id": "HmT2rn6OX6ee"
      }
    },
    {
      "cell_type": "code",
      "source": [
        "l = SinglyLinkedList()\n",
        "l.insert(4)\n",
        "l.insert(96)\n",
        "l.insert(3)\n",
        "l.insert(5)\n",
        "l.insert(7)\n",
        "\n",
        "print(l)\n",
        "l.sort_list()\n",
        "print(l)"
      ],
      "metadata": {
        "id": "om-XkRqrXlwP",
        "colab": {
          "base_uri": "https://localhost:8080/"
        },
        "outputId": "316aeb09-b115-4c6d-cd88-67aacc7d8d70"
      },
      "execution_count": null,
      "outputs": [
        {
          "output_type": "stream",
          "name": "stdout",
          "text": [
            "ListNode(4)\n",
            "ListNode(96)\n",
            "ListNode(3)\n",
            "ListNode(5)\n",
            "ListNode(7)\n",
            "ListNode(3)\n",
            "ListNode(4)\n",
            "ListNode(5)\n",
            "ListNode(7)\n",
            "ListNode(96)\n"
          ]
        }
      ]
    },
    {
      "cell_type": "markdown",
      "source": [
        "Задание 3.1"
      ],
      "metadata": {
        "id": "m4wuGucnX8xR"
      }
    },
    {
      "cell_type": "code",
      "source": [
        "import pandas as pd\n",
        "\n",
        "df = pd.read_csv(\"tips.csv\")\n",
        "\n",
        "m = df[\"sex\"] == \"Male\"\n",
        "m &= df[\"day\"] == \"Fri\"\n",
        "m &= df[\"time\"] == \"Lunch\"\n",
        "m &= df[\"smoker\"] == \"Yes\"\n",
        "\n",
        "df[m][\"total_bill\"].mean()"
      ],
      "metadata": {
        "id": "qURlLuTLXtXe",
        "colab": {
          "base_uri": "https://localhost:8080/"
        },
        "outputId": "f7f6cbce-5f8c-490b-908c-d2e05f0aae58"
      },
      "execution_count": null,
      "outputs": [
        {
          "output_type": "execute_result",
          "data": {
            "text/plain": [
              "11.386666666666668"
            ]
          },
          "metadata": {},
          "execution_count": 11
        }
      ]
    },
    {
      "cell_type": "markdown",
      "source": [
        "Задание 3.2"
      ],
      "metadata": {
        "id": "clNhiiZIX-ra"
      }
    },
    {
      "cell_type": "code",
      "source": [
        "df = pd.read_csv(\"iris.csv\")\n",
        "\n",
        "df_setosa = df[df[\"Name\"] == \"Iris-setosa\"]\n",
        "df_virginica = df[df[\"Name\"] == \"Iris-virginica\"]\n",
        "df_versicolor = df[df[\"Name\"] == \"Iris-versicolor\"]\n",
        "\n",
        "print(f\"Setosa\\n{df_setosa.describe()}\\n\")\n",
        "print(f\"Virginica\\n{df_virginica.describe()}\\n\")\n",
        "print(f\"Versicolor\\n{df_versicolor.describe()}\\n\")"
      ],
      "metadata": {
        "id": "DoB1Vi_EXtzV",
        "colab": {
          "base_uri": "https://localhost:8080/"
        },
        "outputId": "fa9a1852-7aa1-450c-d27c-02bed3173541"
      },
      "execution_count": null,
      "outputs": [
        {
          "output_type": "stream",
          "name": "stdout",
          "text": [
            "Setosa\n",
            "       SepalLength  SepalWidth  PetalLength  PetalWidth\n",
            "count     50.00000   50.000000    50.000000    50.00000\n",
            "mean       5.00600    3.418000     1.464000     0.24400\n",
            "std        0.35249    0.381024     0.173511     0.10721\n",
            "min        4.30000    2.300000     1.000000     0.10000\n",
            "25%        4.80000    3.125000     1.400000     0.20000\n",
            "50%        5.00000    3.400000     1.500000     0.20000\n",
            "75%        5.20000    3.675000     1.575000     0.30000\n",
            "max        5.80000    4.400000     1.900000     0.60000\n",
            "\n",
            "Virginica\n",
            "       SepalLength  SepalWidth  PetalLength  PetalWidth\n",
            "count     50.00000   50.000000    50.000000    50.00000\n",
            "mean       6.58800    2.974000     5.552000     2.02600\n",
            "std        0.63588    0.322497     0.551895     0.27465\n",
            "min        4.90000    2.200000     4.500000     1.40000\n",
            "25%        6.22500    2.800000     5.100000     1.80000\n",
            "50%        6.50000    3.000000     5.550000     2.00000\n",
            "75%        6.90000    3.175000     5.875000     2.30000\n",
            "max        7.90000    3.800000     6.900000     2.50000\n",
            "\n",
            "Versicolor\n",
            "       SepalLength  SepalWidth  PetalLength  PetalWidth\n",
            "count    50.000000   50.000000    50.000000   50.000000\n",
            "mean      5.936000    2.770000     4.260000    1.326000\n",
            "std       0.516171    0.313798     0.469911    0.197753\n",
            "min       4.900000    2.000000     3.000000    1.000000\n",
            "25%       5.600000    2.525000     4.000000    1.200000\n",
            "50%       5.900000    2.800000     4.350000    1.300000\n",
            "75%       6.300000    3.000000     4.600000    1.500000\n",
            "max       7.000000    3.400000     5.100000    1.800000\n",
            "\n"
          ]
        }
      ]
    },
    {
      "cell_type": "markdown",
      "source": [
        "Задание 3.3"
      ],
      "metadata": {
        "id": "LD8gF7VRYAiC"
      }
    },
    {
      "cell_type": "code",
      "source": [
        "df = pd.DataFrame({\n",
        "     'country': ['Kazakhstan', 'Russia', 'Belarus', 'Ukraine'],\n",
        "     'population': [17.0, 143, 9.5, 45],\n",
        "     'square': [2724900, 17125190, 207500, 603623]\n",
        "})\n",
        "\n",
        "print(f\"{df}\\n\")\n",
        "\n",
        "df['population density'] = df['population'] * 1000000 / df['square']\n",
        "\n",
        "print(f\"{df}\\n\")\n",
        "\n",
        "renamed = df.rename(columns = {\"country\" : \"страна\", \"square\" : \"площадь\"})\n",
        "\n",
        "print(renamed)"
      ],
      "metadata": {
        "id": "Nso2-BBPXwoA",
        "colab": {
          "base_uri": "https://localhost:8080/"
        },
        "outputId": "bc36d8fb-e826-4c5a-d60b-1918afac7872"
      },
      "execution_count": null,
      "outputs": [
        {
          "output_type": "stream",
          "name": "stdout",
          "text": [
            "      country  population    square\n",
            "0  Kazakhstan        17.0   2724900\n",
            "1      Russia       143.0  17125190\n",
            "2     Belarus         9.5    207500\n",
            "3     Ukraine        45.0    603623\n",
            "\n",
            "      country  population    square  population density\n",
            "0  Kazakhstan        17.0   2724900            6.238761\n",
            "1      Russia       143.0  17125190            8.350272\n",
            "2     Belarus         9.5    207500           45.783133\n",
            "3     Ukraine        45.0    603623           74.549843\n",
            "\n",
            "       страна  population   площадь  population density\n",
            "0  Kazakhstan        17.0   2724900            6.238761\n",
            "1      Russia       143.0  17125190            8.350272\n",
            "2     Belarus         9.5    207500           45.783133\n",
            "3     Ukraine        45.0    603623           74.549843\n"
          ]
        }
      ]
    },
    {
      "cell_type": "markdown",
      "source": [
        "**ДЗ-2**\n",
        "\n",
        "---\n",
        "\n"
      ],
      "metadata": {
        "id": "npUm-iTlXjOa"
      }
    },
    {
      "cell_type": "code",
      "source": [
        "import pandas as pd\n",
        "from sklearn import model_selection, linear_model\n",
        "from sklearn.metrics import confusion_matrix\n",
        "\n",
        "data_frame = pd.read_csv(\"athletes_sochi.txt\")\n",
        "data_frame.dropna(inplace=True)\n",
        "data_frame[\"BMI\"] = data_frame[\"weight\"] / (data_frame[\"height\"]**2)\n",
        "data_frame[\"gender\"] = data_frame[\"gender\"].map(lambda gender: 1 if gender == \"Male\" else 0)\n",
        "\n",
        "feature_set_0 = [\"weight\", \"height\", \"BMI\"]\n",
        "feature_set_1 = [\"weight\", \"height\", \"total_medals\", \"BMI\"]\n",
        "target_variable = \"gender\"\n",
        "\n",
        "def compute_accuracy(data, features, target):\n",
        "    selected_data = data[features + [target]].sample(frac=1)\n",
        "    inputs = selected_data[features]\n",
        "    outputs = selected_data[target]\n",
        "\n",
        "    x_train, x_test, y_train, y_test = model_selection.train_test_split(inputs, outputs, test_size=0.2)\n",
        "    logistic_model = linear_model.LogisticRegression()\n",
        "    logistic_model.fit(x_train, y_train)\n",
        "    predictions = logistic_model.predict(x_test)\n",
        "    (true_neg, false_pos), (false_neg, true_pos) = confusion_matrix(y_test, predictions)\n",
        "\n",
        "    return (true_neg + true_pos) / (true_pos + false_pos + true_neg + false_neg)\n",
        "\n",
        "print(\"Accuracy 0: \", compute_accuracy(data_frame, feature_set_0, target_variable))\n",
        "print(\"Accuracy 1: \", compute_accuracy(data_frame, feature_set_1, target_variable))"
      ],
      "metadata": {
        "colab": {
          "base_uri": "https://localhost:8080/"
        },
        "id": "b4PTk5jH2_uN",
        "outputId": "6b2b60f0-aa53-46fe-9b30-653d099308d8"
      },
      "execution_count": null,
      "outputs": [
        {
          "output_type": "stream",
          "name": "stdout",
          "text": [
            "Accuracy 0:  0.8629032258064516\n",
            "Accuracy 1:  0.8709677419354839\n"
          ]
        }
      ]
    },
    {
      "cell_type": "code",
      "source": [],
      "metadata": {
        "id": "7dOXIbBb3yAv"
      },
      "execution_count": null,
      "outputs": []
    }
  ]
}