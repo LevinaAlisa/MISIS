{
  "nbformat": 4,
  "nbformat_minor": 0,
  "metadata": {
    "colab": {
      "provenance": []
    },
    "kernelspec": {
      "name": "python3",
      "display_name": "Python 3"
    },
    "language_info": {
      "name": "python"
    }
  },
  "cells": [
    {
      "cell_type": "markdown",
      "source": [
        "**Задание 1**"
      ],
      "metadata": {
        "id": "KZSe7pjPYv5s"
      }
    },
    {
      "cell_type": "code",
      "execution_count": 4,
      "metadata": {
        "id": "cWiGI2rFpU8O",
        "colab": {
          "base_uri": "https://localhost:8080/"
        },
        "outputId": "2f01042b-0841-4363-9d2c-121890a81ad1"
      },
      "outputs": [
        {
          "output_type": "stream",
          "name": "stdout",
          "text": [
            "Введите номер месяца:\n",
            "8\n",
            "Август\n"
          ]
        }
      ],
      "source": [
        "months = ['Январь','Февраль','Март','Апрель','Май','Июнь','Июль','Август','Сентябрь','Октярбь','Ноябрь','Декабрь']\n",
        "print('Введите номер месяца:')\n",
        "month = int(input())\n",
        "print(months[month-1])"
      ]
    },
    {
      "cell_type": "markdown",
      "source": [
        "**Задание 2**"
      ],
      "metadata": {
        "id": "k2Hi0COoaOpJ"
      }
    },
    {
      "cell_type": "code",
      "source": [
        "a = 600\n",
        "b = 1012\n",
        "while a != b:\n",
        "    if a > b:\n",
        "        NOD = a-b\n",
        "        a = NOD\n",
        "    else:\n",
        "        NOD = b-a\n",
        "        b = NOD\n",
        "print(NOD)"
      ],
      "metadata": {
        "colab": {
          "base_uri": "https://localhost:8080/"
        },
        "id": "cQWsH8w7aQ48",
        "outputId": "44b188c5-cc60-45b8-a954-3794ac564441"
      },
      "execution_count": 5,
      "outputs": [
        {
          "output_type": "stream",
          "name": "stdout",
          "text": [
            "4\n"
          ]
        }
      ]
    },
    {
      "cell_type": "markdown",
      "source": [
        "**Задание 3**"
      ],
      "metadata": {
        "id": "TXHB_HXJbI4L"
      }
    },
    {
      "cell_type": "code",
      "source": [
        "file = 'Моя диссертац.gif'\n",
        "extensions = ['png', 'jpg', 'jpeg', 'gif', 'svg']\n",
        "file=file.split('.')\n",
        "print(file[len(file)-1])"
      ],
      "metadata": {
        "colab": {
          "base_uri": "https://localhost:8080/"
        },
        "id": "cKcTxp18bITt",
        "outputId": "e835af33-b80f-4408-cd93-fb69f941b124"
      },
      "execution_count": 7,
      "outputs": [
        {
          "output_type": "stream",
          "name": "stdout",
          "text": [
            "gif\n"
          ]
        }
      ]
    },
    {
      "cell_type": "markdown",
      "source": [
        "**Задание 4**"
      ],
      "metadata": {
        "id": "j_hL55bPdEE0"
      }
    },
    {
      "cell_type": "code",
      "source": [
        "year = int(input())\n",
        "if ((year%400 == 0) or (year%4 == 0)) and (year%100 != 0):\n",
        "  print('Это високосный год')\n",
        "else:\n",
        "  print('Это невисокосный год')"
      ],
      "metadata": {
        "colab": {
          "base_uri": "https://localhost:8080/"
        },
        "id": "qBxSlgNcbiAc",
        "outputId": "2366b37e-226f-41a0-ad59-84942ee2a4c7"
      },
      "execution_count": 9,
      "outputs": [
        {
          "output_type": "stream",
          "name": "stdout",
          "text": [
            "2023\n",
            "Это невисокосный год\n"
          ]
        }
      ]
    }
  ]
}