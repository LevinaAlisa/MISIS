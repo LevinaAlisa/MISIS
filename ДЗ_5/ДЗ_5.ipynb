{
  "nbformat": 4,
  "nbformat_minor": 0,
  "metadata": {
    "colab": {
      "provenance": []
    },
    "kernelspec": {
      "name": "python3",
      "display_name": "Python 3"
    },
    "language_info": {
      "name": "python"
    }
  },
  "cells": [
    {
      "cell_type": "markdown",
      "source": [
        "**Задание 1**"
      ],
      "metadata": {
        "id": "jsQ7gI7f_UTS"
      }
    },
    {
      "cell_type": "code",
      "source": [
        "import re\n",
        "\n",
        "def calculate_average_score(filename):\n",
        "    with open(filename, 'r', encoding=\"utf-8\") as file_stream:\n",
        "        total_score = 0\n",
        "        count = 0\n",
        "        for line in file_stream:\n",
        "            score_match = re.search(r\"\\d+\", line)\n",
        "            score = int(score_match.group(0))\n",
        "            total_score += score\n",
        "            count += 1\n",
        "    average_score = total_score / count if count > 0 else 0\n",
        "    return round(average_score, 2)\n",
        "\n",
        "def get_failed_students(filename):\n",
        "    with open(filename, 'r', encoding=\"utf-8\") as file_stream:\n",
        "        failed_students = []\n",
        "        for line in file_stream:\n",
        "            score_match = re.search(r\"\\d+\", line)\n",
        "            name_match = re.search(r\"[A-Za-zА-Яа-я]+\\s[A-Za-zА-Яа-я]\\.\", line)\n",
        "            score = int(score_match.group(0))\n",
        "            name = name_match.group(0)\n",
        "\n",
        "            if score < 3:\n",
        "                failed_students.append(name)\n",
        "    return failed_students\n",
        "\n",
        "print(calculate_average_score(\"students.txt\"))\n",
        "print(get_failed_students(\"students.txt\"))"
      ],
      "metadata": {
        "colab": {
          "base_uri": "https://localhost:8080/"
        },
        "id": "jkHB1djbGjQU",
        "outputId": "71e81753-f1e3-4286-af72-8933ba4fe90b"
      },
      "execution_count": 3,
      "outputs": [
        {
          "output_type": "stream",
          "name": "stdout",
          "text": [
            "3.18\n",
            "['Дмитриев Н.', 'Котов Д.', 'Бирюкова Н.', 'Лемонов Ю.']\n"
          ]
        }
      ]
    },
    {
      "cell_type": "markdown",
      "source": [
        "**Задание 2**"
      ],
      "metadata": {
        "id": "UBmWwikHH2Z5"
      }
    },
    {
      "cell_type": "code",
      "source": [
        "import re\n",
        "\n",
        "def count_word_occurrences(word, file_name):\n",
        "    with open(file_name, 'r', encoding=\"utf-8\") as file:\n",
        "        file_content = file.read()\n",
        "        words = re.findall(r'[A-Za-zА-Яа-я]+', file_content)\n",
        "\n",
        "        word_count = words.count(word)\n",
        "    return word_count\n",
        "\n",
        "result = count_word_occurrences(\"практ\", \"schedule.txt\")\n",
        "print(result)"
      ],
      "metadata": {
        "colab": {
          "base_uri": "https://localhost:8080/"
        },
        "id": "sQOiqLhHG7Yo",
        "outputId": "401ae977-6196-4a99-b25d-7eb1eefdb698"
      },
      "execution_count": 5,
      "outputs": [
        {
          "output_type": "stream",
          "name": "stdout",
          "text": [
            "2\n"
          ]
        }
      ]
    },
    {
      "cell_type": "markdown",
      "source": [
        "**Задание 4**"
      ],
      "metadata": {
        "id": "hiMkuH2NH5El"
      }
    },
    {
      "cell_type": "code",
      "source": [
        "ls"
      ],
      "metadata": {
        "colab": {
          "base_uri": "https://localhost:8080/"
        },
        "id": "aqDzBBEzH4zl",
        "outputId": "e23fe1fd-71e7-4757-80d7-a2c6a89d533a"
      },
      "execution_count": 9,
      "outputs": [
        {
          "output_type": "stream",
          "name": "stdout",
          "text": [
            "\u001b[0m\u001b[01;34msample_data\u001b[0m/  schedule.txt  students.txt  txt.txt\n"
          ]
        }
      ]
    },
    {
      "cell_type": "markdown",
      "source": [
        "**Задание 5**"
      ],
      "metadata": {
        "id": "qrSDBxpRIKHM"
      }
    },
    {
      "cell_type": "code",
      "source": [
        "import re\n",
        "from collections import Counter\n",
        "\n",
        "def get_word_frequency(phrase):\n",
        "    phrase = phrase.lower()\n",
        "    words = re.findall(r'\\w+', phrase)\n",
        "    return Counter(words)\n",
        "\n",
        "def get_most_frequent_word(phrase):\n",
        "    frequency_dict = get_word_frequency(phrase)\n",
        "    most_common = frequency_dict.most_common(1)\n",
        "    return most_common[0][0] if most_common else None\n",
        "\n",
        "def get_longest_word(phrase):\n",
        "    phrase = phrase.lower()\n",
        "    words = re.findall(r'\\w+', phrase)\n",
        "    return max(words, key=len)\n",
        "\n",
        "with open(\"txt.txt\", \"r\", encoding=\"utf-8\") as file:\n",
        "    file_content = file.read()\n",
        "\n",
        "print({get_most_frequent_word(file_content)})\n",
        "print({get_longest_word(file_content)})"
      ],
      "metadata": {
        "colab": {
          "base_uri": "https://localhost:8080/"
        },
        "id": "MFVc2Y1uIL3n",
        "outputId": "9a6ccf58-e270-41a4-b225-cc68abed6da6"
      },
      "execution_count": 8,
      "outputs": [
        {
          "output_type": "stream",
          "name": "stdout",
          "text": [
            "{'и'}\n",
            "{'храброславленный'}\n"
          ]
        }
      ]
    }
  ]
}